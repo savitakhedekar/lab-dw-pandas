{
 "cells": [
  {
   "cell_type": "markdown",
   "id": "25d7736c-ba17-4aff-b6bb-66eba20fbf4e",
   "metadata": {},
   "source": [
    "# Lab | Pandas"
   ]
  },
  {
   "cell_type": "markdown",
   "id": "d1973e9e-8be6-4039-b70e-d73ee0d94c99",
   "metadata": {},
   "source": [
    "In this lab, we will be working with the customer data from an insurance company, which can be found in the CSV file located at the following link: https://raw.githubusercontent.com/data-bootcamp-v4/data/main/file1.csv\n",
    "\n",
    "The data includes information such as customer ID, state, gender, education, income, and other variables that can be used to perform various analyses.\n",
    "\n",
    "Throughout the lab, we will be using the pandas library in Python to manipulate and analyze the data. Pandas is a powerful library that provides various data manipulation and analysis tools, including the ability to load and manipulate data from a variety of sources, including CSV files."
   ]
  },
  {
   "cell_type": "markdown",
   "id": "8045146f-f4f7-44d9-8cd9-130d6400c73a",
   "metadata": {},
   "source": [
    "### Data Description\n",
    "\n",
    "- Customer - Customer ID\n",
    "\n",
    "- ST - State where customers live\n",
    "\n",
    "- Gender - Gender of the customer\n",
    "\n",
    "- Education - Background education of customers \n",
    "\n",
    "- Customer Lifetime Value - Customer lifetime value(CLV) is the total revenue the client will derive from their entire relationship with a customer. In other words, is the predicted or calculated value of a customer over their entire duration as a policyholder with the insurance company. It is an estimation of the net profit that the insurance company expects to generate from a customer throughout their relationship with the company. Customer Lifetime Value takes into account factors such as the duration of the customer's policy, premium payments, claim history, renewal likelihood, and potential additional services or products the customer may purchase. It helps insurers assess the long-term profitability and value associated with retaining a particular customer.\n",
    "\n",
    "- Income - Customers income\n",
    "\n",
    "- Monthly Premium Auto - Amount of money the customer pays on a monthly basis as a premium for their auto insurance coverage. It represents the recurring cost that the insured person must pay to maintain their insurance policy and receive coverage for potential damages, accidents, or other covered events related to their vehicle.\n",
    "\n",
    "- Number of Open Complaints - Number of complaints the customer opened\n",
    "\n",
    "- Policy Type - There are three type of policies in car insurance (Corporate Auto, Personal Auto, and Special Auto)\n",
    "\n",
    "- Vehicle Class - Type of vehicle classes that customers have Two-Door Car, Four-Door Car SUV, Luxury SUV, Sports Car, and Luxury Car\n",
    "\n",
    "- Total Claim Amount - the sum of all claims made by the customer. It represents the total monetary value of all approved claims for incidents such as accidents, theft, vandalism, or other covered events.\n"
   ]
  },
  {
   "cell_type": "markdown",
   "id": "3a72419b-20fc-4905-817a-8c83abc59de6",
   "metadata": {},
   "source": [
    "External Resources: https://towardsdatascience.com/filtering-data-frames-in-pandas-b570b1f834b9"
   ]
  },
  {
   "cell_type": "markdown",
   "id": "8f8ece17-e919-4e23-96c0-c7c59778436a",
   "metadata": {},
   "source": [
    "## Challenge 1: Understanding the data\n",
    "\n",
    "In this challenge, you will use pandas to explore a given dataset. Your task is to gain a deep understanding of the data by analyzing its characteristics, dimensions, and statistical properties."
   ]
  },
  {
   "cell_type": "code",
   "execution_count": 15,
   "id": "0847d91c-5e70-42c6-82a1-a3d6181f9fca",
   "metadata": {},
   "outputs": [],
   "source": [
    "import numpy as np\n",
    "import pandas as pd"
   ]
  },
  {
   "cell_type": "code",
   "execution_count": 19,
   "id": "dd4e8cd8-a6f6-486c-a5c4-1745b0c035f4",
   "metadata": {},
   "outputs": [
    {
     "name": "stdout",
     "output_type": "stream",
     "text": [
      "  Customer          ST GENDER             Education Customer Lifetime Value  \\\n",
      "0  RB50392  Washington    NaN                Master                     NaN   \n",
      "1  QZ44356     Arizona      F              Bachelor              697953.59%   \n",
      "2  AI49188      Nevada      F              Bachelor             1288743.17%   \n",
      "3  WW63253  California      M              Bachelor              764586.18%   \n",
      "4  GA49547  Washington      M  High School or Below              536307.65%   \n",
      "\n",
      "    Income  Monthly Premium Auto Number of Open Complaints     Policy Type  \\\n",
      "0      0.0                1000.0                    1/0/00   Personal Auto   \n",
      "1      0.0                  94.0                    1/0/00   Personal Auto   \n",
      "2  48767.0                 108.0                    1/0/00   Personal Auto   \n",
      "3      0.0                 106.0                    1/0/00  Corporate Auto   \n",
      "4  36357.0                  68.0                    1/0/00   Personal Auto   \n",
      "\n",
      "   Vehicle Class  Total Claim Amount  \n",
      "0  Four-Door Car            2.704934  \n",
      "1  Four-Door Car         1131.464935  \n",
      "2   Two-Door Car          566.472247  \n",
      "3            SUV          529.881344  \n",
      "4  Four-Door Car           17.269323  \n"
     ]
    }
   ],
   "source": [
    "url = \"https://raw.githubusercontent.com/data-bootcamp-v4/data/main/file1.csv\"\n",
    "df = pd.read_csv(url)\n",
    "print(df.head())"
   ]
  },
  {
   "cell_type": "code",
   "execution_count": 21,
   "id": "75297f55-5041-48aa-ad4a-580dea1f6c7a",
   "metadata": {},
   "outputs": [
    {
     "name": "stdout",
     "output_type": "stream",
     "text": [
      "     Customer   ST GENDER Education Customer Lifetime Value  Income  \\\n",
      "4003      NaN  NaN    NaN       NaN                     NaN     NaN   \n",
      "4004      NaN  NaN    NaN       NaN                     NaN     NaN   \n",
      "4005      NaN  NaN    NaN       NaN                     NaN     NaN   \n",
      "4006      NaN  NaN    NaN       NaN                     NaN     NaN   \n",
      "4007      NaN  NaN    NaN       NaN                     NaN     NaN   \n",
      "\n",
      "      Monthly Premium Auto Number of Open Complaints Policy Type  \\\n",
      "4003                   NaN                       NaN         NaN   \n",
      "4004                   NaN                       NaN         NaN   \n",
      "4005                   NaN                       NaN         NaN   \n",
      "4006                   NaN                       NaN         NaN   \n",
      "4007                   NaN                       NaN         NaN   \n",
      "\n",
      "     Vehicle Class  Total Claim Amount  \n",
      "4003           NaN                 NaN  \n",
      "4004           NaN                 NaN  \n",
      "4005           NaN                 NaN  \n",
      "4006           NaN                 NaN  \n",
      "4007           NaN                 NaN  \n"
     ]
    }
   ],
   "source": [
    "print(df.tail())"
   ]
  },
  {
   "cell_type": "code",
   "execution_count": 25,
   "id": "2e9a5151-f154-4aa8-a574-59fb406347ba",
   "metadata": {},
   "outputs": [
    {
     "name": "stdout",
     "output_type": "stream",
     "text": [
      "Data types of each column:\n",
      " Customer                      object\n",
      "ST                            object\n",
      "GENDER                        object\n",
      "Education                     object\n",
      "Customer Lifetime Value       object\n",
      "Income                       float64\n",
      "Monthly Premium Auto         float64\n",
      "Number of Open Complaints     object\n",
      "Policy Type                   object\n",
      "Vehicle Class                 object\n",
      "Total Claim Amount           float64\n",
      "dtype: object\n"
     ]
    }
   ],
   "source": [
    "print(\"Data types of each column:\\n\", df.dtypes)"
   ]
  },
  {
   "cell_type": "code",
   "execution_count": 26,
   "id": "0b22f4bd-505e-477f-a0f1-17bedb48e784",
   "metadata": {},
   "outputs": [
    {
     "name": "stdout",
     "output_type": "stream",
     "text": [
      "Summary statistics for numerical columns:\n",
      "              Income  Monthly Premium Auto  Total Claim Amount\n",
      "count   1071.000000           1071.000000         1071.000000\n",
      "mean   39295.701214            193.234360          404.986909\n",
      "std    30469.427060           1601.190369          293.027260\n",
      "min        0.000000             61.000000            0.382107\n",
      "25%    14072.000000             68.000000          202.157702\n",
      "50%    36234.000000             83.000000          354.729129\n",
      "75%    64631.000000            109.500000          532.800000\n",
      "max    99960.000000          35354.000000         2893.239678\n"
     ]
    }
   ],
   "source": [
    "print(\"Summary statistics for numerical columns:\\n\", df.describe())"
   ]
  },
  {
   "cell_type": "code",
   "execution_count": 20,
   "id": "6e605b30-7c12-447c-a79c-fa8f7098317d",
   "metadata": {},
   "outputs": [
    {
     "name": "stdout",
     "output_type": "stream",
     "text": [
      "<class 'pandas.core.frame.DataFrame'>\n",
      "RangeIndex: 4008 entries, 0 to 4007\n",
      "Data columns (total 11 columns):\n",
      " #   Column                     Non-Null Count  Dtype  \n",
      "---  ------                     --------------  -----  \n",
      " 0   Customer                   1071 non-null   object \n",
      " 1   ST                         1071 non-null   object \n",
      " 2   GENDER                     954 non-null    object \n",
      " 3   Education                  1071 non-null   object \n",
      " 4   Customer Lifetime Value    1068 non-null   object \n",
      " 5   Income                     1071 non-null   float64\n",
      " 6   Monthly Premium Auto       1071 non-null   float64\n",
      " 7   Number of Open Complaints  1071 non-null   object \n",
      " 8   Policy Type                1071 non-null   object \n",
      " 9   Vehicle Class              1071 non-null   object \n",
      " 10  Total Claim Amount         1071 non-null   float64\n",
      "dtypes: float64(3), object(8)\n",
      "memory usage: 344.6+ KB\n",
      "None\n"
     ]
    }
   ],
   "source": [
    "print(df.info())"
   ]
  },
  {
   "cell_type": "code",
   "execution_count": 27,
   "id": "a7efaef8-a56d-433f-b6bd-fee3dbd9f019",
   "metadata": {},
   "outputs": [
    {
     "name": "stdout",
     "output_type": "stream",
     "text": [
      "Number of unique values in each column:\n",
      " Customer                     1071\n",
      "ST                              8\n",
      "GENDER                          5\n",
      "Education                       6\n",
      "Customer Lifetime Value      1027\n",
      "Income                        774\n",
      "Monthly Premium Auto          132\n",
      "Number of Open Complaints       6\n",
      "Policy Type                     3\n",
      "Vehicle Class                   6\n",
      "Total Claim Amount            761\n",
      "dtype: int64\n"
     ]
    }
   ],
   "source": [
    "unique_values = df.nunique()\n",
    "print(\"Number of unique values in each column:\\n\", unique_values)"
   ]
  },
  {
   "cell_type": "markdown",
   "id": "4a703890-63db-4944-b7ab-95a4f8185120",
   "metadata": {},
   "source": [
    "## Challenge 2: analyzing the data"
   ]
  },
  {
   "cell_type": "markdown",
   "id": "0776a403-c56a-452f-ac33-5fd4fdb06fc7",
   "metadata": {},
   "source": [
    "### Exercise 1"
   ]
  },
  {
   "cell_type": "markdown",
   "id": "eedbc484-da4d-4f9c-9343-e1d44311a87e",
   "metadata": {},
   "source": [
    "The marketing team wants to know the top 5 less common customer locations. Create a pandas Series object that contains the customer locations and their frequencies, and then retrieve the top 5 less common locations in ascending order."
   ]
  },
  {
   "cell_type": "code",
   "execution_count": 34,
   "id": "2dca5073-4520-4f42-9390-4b92733284ed",
   "metadata": {},
   "outputs": [],
   "source": [
    "import pandas as pd"
   ]
  },
  {
   "cell_type": "code",
   "execution_count": 38,
   "id": "e9542017-1c34-4e5a-a811-e028cbb57a75",
   "metadata": {},
   "outputs": [
    {
     "name": "stdout",
     "output_type": "stream",
     "text": [
      "  Customer          ST GENDER             Education Customer Lifetime Value  \\\n",
      "0  RB50392  Washington    NaN                Master                     NaN   \n",
      "1  QZ44356     Arizona      F              Bachelor              697953.59%   \n",
      "2  AI49188      Nevada      F              Bachelor             1288743.17%   \n",
      "3  WW63253  California      M              Bachelor              764586.18%   \n",
      "4  GA49547  Washington      M  High School or Below              536307.65%   \n",
      "\n",
      "    Income  Monthly Premium Auto Number of Open Complaints     Policy Type  \\\n",
      "0      0.0                1000.0                    1/0/00   Personal Auto   \n",
      "1      0.0                  94.0                    1/0/00   Personal Auto   \n",
      "2  48767.0                 108.0                    1/0/00   Personal Auto   \n",
      "3      0.0                 106.0                    1/0/00  Corporate Auto   \n",
      "4  36357.0                  68.0                    1/0/00   Personal Auto   \n",
      "\n",
      "   Vehicle Class  Total Claim Amount  \n",
      "0  Four-Door Car            2.704934  \n",
      "1  Four-Door Car         1131.464935  \n",
      "2   Two-Door Car          566.472247  \n",
      "3            SUV          529.881344  \n",
      "4  Four-Door Car           17.269323  \n"
     ]
    }
   ],
   "source": [
    "url = \"https://raw.githubusercontent.com/data-bootcamp-v4/data/main/file1.csv\"\n",
    "customer_dataframe = pd.read_csv(url)\n",
    "print(customer_dataframe.head())"
   ]
  },
  {
   "cell_type": "code",
   "execution_count": 44,
   "id": "855ba3f2-48c8-4cf1-85f8-68f9ba6bc1a5",
   "metadata": {},
   "outputs": [],
   "source": [
    "df = pd.DataFrame(customer_dataframe)"
   ]
  },
  {
   "cell_type": "code",
   "execution_count": 146,
   "id": "cf245da9-6aed-4dbf-9388-71b7a66e8273",
   "metadata": {},
   "outputs": [
    {
     "ename": "SyntaxError",
     "evalue": "invalid syntax (3787679211.py, line 1)",
     "output_type": "error",
     "traceback": [
      "\u001b[1;36m  Cell \u001b[1;32mIn[146], line 1\u001b[1;36m\u001b[0m\n\u001b[1;33m    location_counts = df['ST'].(pt_total)\u001b[0m\n\u001b[1;37m                               ^\u001b[0m\n\u001b[1;31mSyntaxError\u001b[0m\u001b[1;31m:\u001b[0m invalid syntax\n"
     ]
    }
   ],
   "source": [
    "location_counts = df['ST'].(pt_total)"
   ]
  },
  {
   "cell_type": "code",
   "execution_count": 58,
   "id": "928822ec-9217-4099-bf3d-09987549932c",
   "metadata": {},
   "outputs": [
    {
     "data": {
      "text/plain": [
       "ST\n",
       "Oregon        320\n",
       "California    211\n",
       "Arizona       186\n",
       "Cali          120\n",
       "Nevada         98\n",
       "Washington     81\n",
       "WA             30\n",
       "AZ             25\n",
       "Name: count, dtype: int64"
      ]
     },
     "execution_count": 58,
     "metadata": {},
     "output_type": "execute_result"
    }
   ],
   "source": [
    "location_counts"
   ]
  },
  {
   "cell_type": "code",
   "execution_count": 55,
   "id": "24bb8f9a-67ba-41fb-8422-f7e90de7ba0d",
   "metadata": {},
   "outputs": [],
   "source": [
    "top_5_less_common_sorted = top_5_less_common.sort_values()"
   ]
  },
  {
   "cell_type": "code",
   "execution_count": 51,
   "id": "ccce81d9-4031-4a35-a9cf-0e451de1cd60",
   "metadata": {},
   "outputs": [
    {
     "name": "stdout",
     "output_type": "stream",
     "text": [
      "ST\n",
      "AZ             25\n",
      "WA             30\n",
      "Washington     81\n",
      "Nevada         98\n",
      "Cali          120\n",
      "Name: count, dtype: int64\n"
     ]
    }
   ],
   "source": [
    "print(top_5_less_common_sorted)"
   ]
  },
  {
   "cell_type": "markdown",
   "id": "0ce80f43-4afa-43c7-a78a-c917444da4e0",
   "metadata": {},
   "source": [
    "### Exercise 2\n",
    "\n",
    "The sales team wants to know the total number of policies sold for each type of policy. Create a pandas Series object that contains the policy types and their total number of policies sold, and then retrieve the policy type with the highest number of policies sold."
   ]
  },
  {
   "cell_type": "markdown",
   "id": "a9f13997-1555-4f98-aca6-970fda1d2c3f",
   "metadata": {},
   "source": [
    "*Hint:*\n",
    "- *Using value_counts() method simplifies this analysis.*\n",
    "- *Futhermore, there is a method that returns the index of the maximum value in a column or row.*\n"
   ]
  },
  {
   "cell_type": "code",
   "execution_count": null,
   "id": "d8649f52-7305-4304-9385-ad81e1afc5d2",
   "metadata": {},
   "outputs": [],
   "source": [
    "consumer_data_pt"
   ]
  },
  {
   "cell_type": "code",
   "execution_count": 91,
   "id": "bcfad6c1-9af2-4b0b-9aa9-0dc5c17473c0",
   "metadata": {},
   "outputs": [],
   "source": [
    "policy_sold = pd.DataFrame(df['Policy Type'].value_counts())"
   ]
  },
  {
   "cell_type": "code",
   "execution_count": 92,
   "id": "8c93283d-07f7-4a80-91ed-5b7f5de06bdd",
   "metadata": {},
   "outputs": [
    {
     "name": "stdout",
     "output_type": "stream",
     "text": [
      "total policy sold                 count\n",
      "Policy Type          \n",
      "Personal Auto     780\n",
      "Corporate Auto    234\n",
      "Special Auto       57\n"
     ]
    }
   ],
   "source": [
    "print (\"total policy sold\", policy_sold)"
   ]
  },
  {
   "cell_type": "code",
   "execution_count": 93,
   "id": "64cd18e3-5205-4b5f-bc32-3137e3a9a6b4",
   "metadata": {},
   "outputs": [
    {
     "data": {
      "text/html": [
       "<div>\n",
       "<style scoped>\n",
       "    .dataframe tbody tr th:only-of-type {\n",
       "        vertical-align: middle;\n",
       "    }\n",
       "\n",
       "    .dataframe tbody tr th {\n",
       "        vertical-align: top;\n",
       "    }\n",
       "\n",
       "    .dataframe thead th {\n",
       "        text-align: right;\n",
       "    }\n",
       "</style>\n",
       "<table border=\"1\" class=\"dataframe\">\n",
       "  <thead>\n",
       "    <tr style=\"text-align: right;\">\n",
       "      <th></th>\n",
       "      <th>count</th>\n",
       "    </tr>\n",
       "    <tr>\n",
       "      <th>Policy Type</th>\n",
       "      <th></th>\n",
       "    </tr>\n",
       "  </thead>\n",
       "  <tbody>\n",
       "    <tr>\n",
       "      <th>Personal Auto</th>\n",
       "      <td>780</td>\n",
       "    </tr>\n",
       "    <tr>\n",
       "      <th>Corporate Auto</th>\n",
       "      <td>234</td>\n",
       "    </tr>\n",
       "    <tr>\n",
       "      <th>Special Auto</th>\n",
       "      <td>57</td>\n",
       "    </tr>\n",
       "  </tbody>\n",
       "</table>\n",
       "</div>"
      ],
      "text/plain": [
       "                count\n",
       "Policy Type          \n",
       "Personal Auto     780\n",
       "Corporate Auto    234\n",
       "Special Auto       57"
      ]
     },
     "execution_count": 93,
     "metadata": {},
     "output_type": "execute_result"
    }
   ],
   "source": [
    "policy_sold"
   ]
  },
  {
   "cell_type": "code",
   "execution_count": 94,
   "id": "3655d44d-ccf0-47f1-be28-332128218c1c",
   "metadata": {},
   "outputs": [],
   "source": [
    "\n",
    "policy_sold_counts = policy_sold.max()"
   ]
  },
  {
   "cell_type": "code",
   "execution_count": 95,
   "id": "bda02ac1-84c9-4072-8996-4e8fbab91f60",
   "metadata": {},
   "outputs": [
    {
     "name": "stdout",
     "output_type": "stream",
     "text": [
      "Maximum number of policies sold: count    780\n",
      "dtype: int64\n"
     ]
    }
   ],
   "source": [
    "print(\"Maximum number of policies sold:\", policy_sold_counts)"
   ]
  },
  {
   "cell_type": "code",
   "execution_count": 89,
   "id": "7981c835-dadc-4039-b276-29b843165851",
   "metadata": {},
   "outputs": [],
   "source": [
    "most_common_policy_type = policy_sold.idxmax()"
   ]
  },
  {
   "cell_type": "code",
   "execution_count": 90,
   "id": "8358aec8-b64d-404b-ae74-aa07247a5737",
   "metadata": {},
   "outputs": [
    {
     "name": "stdout",
     "output_type": "stream",
     "text": [
      "Most common policy type: Personal Auto\n"
     ]
    }
   ],
   "source": [
    "print(\"Most common policy type:\", most_common_policy_type)"
   ]
  },
  {
   "cell_type": "markdown",
   "id": "0b863fd3-bf91-4d5d-86eb-be29ed9f5b70",
   "metadata": {},
   "source": [
    "### Exercise 3\n",
    "\n",
    "The sales team wants to know if customers with Personal Auto have a lower income than those with Corporate Auto. How does the average income compare between the two policy types?"
   ]
  },
  {
   "cell_type": "markdown",
   "id": "b1386d75-2810-4aa1-93e0-9485aa12d552",
   "metadata": {},
   "source": [
    "- Use *loc* to create two dataframes: one containing only Personal Auto policies and one containing only Corporate Auto policies.\n",
    "- Calculate the average income for each policy.\n",
    "- Print the results."
   ]
  },
  {
   "cell_type": "code",
   "execution_count": 105,
   "id": "0c0563cf-6f8b-463d-a321-651a972f82e5",
   "metadata": {},
   "outputs": [
    {
     "data": {
      "text/html": [
       "<div>\n",
       "<style scoped>\n",
       "    .dataframe tbody tr th:only-of-type {\n",
       "        vertical-align: middle;\n",
       "    }\n",
       "\n",
       "    .dataframe tbody tr th {\n",
       "        vertical-align: top;\n",
       "    }\n",
       "\n",
       "    .dataframe thead th {\n",
       "        text-align: right;\n",
       "    }\n",
       "</style>\n",
       "<table border=\"1\" class=\"dataframe\">\n",
       "  <thead>\n",
       "    <tr style=\"text-align: right;\">\n",
       "      <th></th>\n",
       "      <th>count</th>\n",
       "    </tr>\n",
       "    <tr>\n",
       "      <th>Policy Type</th>\n",
       "      <th></th>\n",
       "    </tr>\n",
       "  </thead>\n",
       "  <tbody>\n",
       "    <tr>\n",
       "      <th>Personal Auto</th>\n",
       "      <td>780</td>\n",
       "    </tr>\n",
       "    <tr>\n",
       "      <th>Corporate Auto</th>\n",
       "      <td>234</td>\n",
       "    </tr>\n",
       "    <tr>\n",
       "      <th>Special Auto</th>\n",
       "      <td>57</td>\n",
       "    </tr>\n",
       "  </tbody>\n",
       "</table>\n",
       "</div>"
      ],
      "text/plain": [
       "                count\n",
       "Policy Type          \n",
       "Personal Auto     780\n",
       "Corporate Auto    234\n",
       "Special Auto       57"
      ]
     },
     "execution_count": 105,
     "metadata": {},
     "output_type": "execute_result"
    }
   ],
   "source": [
    "import pandas as pd\n",
    "\n",
    "policy_sold"
   ]
  },
  {
   "cell_type": "code",
   "execution_count": 111,
   "id": "5329877e-7281-43c8-91c8-d407e0e4200c",
   "metadata": {},
   "outputs": [],
   "source": [
    "customer_data = pd.DataFrame(customer_data)"
   ]
  },
  {
   "cell_type": "code",
   "execution_count": 112,
   "id": "07187f64-eae3-4322-8f61-dc9184c648fe",
   "metadata": {},
   "outputs": [
    {
     "name": "stdout",
     "output_type": "stream",
     "text": [
      "Index(['Customer', 'ST', 'GENDER', 'Education', 'Customer Lifetime Value',\n",
      "       'Income', 'Monthly Premium Auto', 'Number of Open Complaints',\n",
      "       'Policy Type', 'Vehicle Class', 'Total Claim Amount'],\n",
      "      dtype='object')\n"
     ]
    }
   ],
   "source": [
    "print(df.columns)"
   ]
  },
  {
   "cell_type": "code",
   "execution_count": 113,
   "id": "2b0e6335-0cd6-4a4b-bf25-503de103853d",
   "metadata": {},
   "outputs": [],
   "source": [
    "personal_auto = df.loc[df['Policy Type'] == 'Personal Auto']"
   ]
  },
  {
   "cell_type": "code",
   "execution_count": 116,
   "id": "2a262652-bacf-4732-802d-257d3991d81b",
   "metadata": {},
   "outputs": [],
   "source": [
    "avargeincome_personal_auto = personal_auto['Income'].mean()"
   ]
  },
  {
   "cell_type": "code",
   "execution_count": 117,
   "id": "7629886f-61e4-4e5c-96dc-98c769ef5315",
   "metadata": {},
   "outputs": [
    {
     "name": "stdout",
     "output_type": "stream",
     "text": [
      "     Customer          ST GENDER             Education  \\\n",
      "0     RB50392  Washington    NaN                Master   \n",
      "1     QZ44356     Arizona      F              Bachelor   \n",
      "2     AI49188      Nevada      F              Bachelor   \n",
      "4     GA49547  Washington      M  High School or Below   \n",
      "5     OC83172      Oregon      F              Bachelor   \n",
      "...       ...         ...    ...                   ...   \n",
      "1065  XD85577        Cali      M              Bachelor   \n",
      "1066  TM65736      Oregon      M                Master   \n",
      "1067  VJ51327        Cali      F  High School or Below   \n",
      "1068  GS98873     Arizona      F              Bachelor   \n",
      "1070  MY31220  California      F               College   \n",
      "\n",
      "     Customer Lifetime Value   Income  Monthly Premium Auto  \\\n",
      "0                        NaN      0.0                1000.0   \n",
      "1                 697953.59%      0.0                  94.0   \n",
      "2                1288743.17%  48767.0                 108.0   \n",
      "4                 536307.65%  36357.0                  68.0   \n",
      "5                 825629.78%  62902.0                  69.0   \n",
      "...                      ...      ...                   ...   \n",
      "1065              284226.69%  69417.0                  73.0   \n",
      "1066              305955.03%  38644.0                  78.0   \n",
      "1067             2031499.76%  63209.0                 102.0   \n",
      "1068              323912.47%  16061.0                  88.0   \n",
      "1070              899704.02%  54230.0                 112.0   \n",
      "\n",
      "     Number of Open Complaints    Policy Type  Vehicle Class  \\\n",
      "0                       1/0/00  Personal Auto  Four-Door Car   \n",
      "1                       1/0/00  Personal Auto  Four-Door Car   \n",
      "2                       1/0/00  Personal Auto   Two-Door Car   \n",
      "4                       1/0/00  Personal Auto  Four-Door Car   \n",
      "5                       1/0/00  Personal Auto   Two-Door Car   \n",
      "...                        ...            ...            ...   \n",
      "1065                    1/1/00  Personal Auto  Four-Door Car   \n",
      "1066                    1/1/00  Personal Auto  Four-Door Car   \n",
      "1067                    1/2/00  Personal Auto            SUV   \n",
      "1068                    1/0/00  Personal Auto  Four-Door Car   \n",
      "1070                    1/0/00  Personal Auto   Two-Door Car   \n",
      "\n",
      "      Total Claim Amount  \n",
      "0               2.704934  \n",
      "1            1131.464935  \n",
      "2             566.472247  \n",
      "4              17.269323  \n",
      "5             159.383042  \n",
      "...                  ...  \n",
      "1065           30.874869  \n",
      "1066          361.455219  \n",
      "1067          207.320041  \n",
      "1068          633.600000  \n",
      "1070          537.600000  \n",
      "\n",
      "[780 rows x 11 columns]\n"
     ]
    }
   ],
   "source": [
    "print(personal_auto)"
   ]
  },
  {
   "cell_type": "code",
   "execution_count": 123,
   "id": "a419c076-83cb-4218-9da6-1b255e2a7b75",
   "metadata": {},
   "outputs": [
    {
     "name": "stdout",
     "output_type": "stream",
     "text": [
      "Average income for Personal Auto policies: 38180.69871794872\n"
     ]
    }
   ],
   "source": [
    "print(f\"Average income for Personal Auto policies: {avargeincome_personal_auto}\")"
   ]
  },
  {
   "cell_type": "code",
   "execution_count": 118,
   "id": "254b1e1a-a2e5-4043-8fce-e5c10b5f5a76",
   "metadata": {},
   "outputs": [],
   "source": [
    "corporate_auto = df.loc[df['Policy Type'] == 'Corporate Auto']"
   ]
  },
  {
   "cell_type": "code",
   "execution_count": 127,
   "id": "a17e8f7e-d5d5-49de-b8b6-6d82337332c8",
   "metadata": {},
   "outputs": [],
   "source": [
    "avargecorporate_auto = corporate_auto[\"Income\"].mean()"
   ]
  },
  {
   "cell_type": "code",
   "execution_count": 120,
   "id": "1c45cf28-decd-42c3-b3ca-45dbbc1d4a98",
   "metadata": {},
   "outputs": [
    {
     "name": "stdout",
     "output_type": "stream",
     "text": [
      "     Customer          ST GENDER             Education  \\\n",
      "3     WW63253  California      M              Bachelor   \n",
      "6     XZ87318      Oregon      F               College   \n",
      "7     CF85061     Arizona      M                Master   \n",
      "8     DY87989      Oregon      M              Bachelor   \n",
      "12    DP39365  California    NaN                Master   \n",
      "...       ...         ...    ...                   ...   \n",
      "1045  WZ31900      Oregon      F              Bachelor   \n",
      "1050  BJ53923     Arizona      M  High School or Below   \n",
      "1052  FB23788      Oregon      M  High School or Below   \n",
      "1056  PI47776      Oregon      F              Bachelor   \n",
      "1059  YG44474      Oregon      M               College   \n",
      "\n",
      "     Customer Lifetime Value   Income  Monthly Premium Auto  \\\n",
      "3                 764586.18%      0.0                 106.0   \n",
      "6                 538089.86%  55350.0                  67.0   \n",
      "7                 721610.03%      0.0                 101.0   \n",
      "8                2412750.40%  14072.0                  71.0   \n",
      "12                879879.70%  77026.0                 110.0   \n",
      "...                      ...      ...                   ...   \n",
      "1045              864970.06%  94389.0                 107.0   \n",
      "1050              260027.21%  51978.0                  66.0   \n",
      "1052              882883.50%  86721.0                 111.0   \n",
      "1056              253070.51%  89451.0                  63.0   \n",
      "1059             1401472.13%  54193.0                 117.0   \n",
      "\n",
      "     Number of Open Complaints     Policy Type  Vehicle Class  \\\n",
      "3                       1/0/00  Corporate Auto            SUV   \n",
      "6                       1/0/00  Corporate Auto  Four-Door Car   \n",
      "7                       1/0/00  Corporate Auto  Four-Door Car   \n",
      "8                       1/0/00  Corporate Auto  Four-Door Car   \n",
      "12                      1/2/00  Corporate Auto  Four-Door Car   \n",
      "...                        ...             ...            ...   \n",
      "1045                    1/0/00  Corporate Auto            SUV   \n",
      "1050                    1/0/00  Corporate Auto  Four-Door Car   \n",
      "1052                    1/0/00  Corporate Auto            SUV   \n",
      "1056                    1/0/00  Corporate Auto  Four-Door Car   \n",
      "1059                    1/0/00  Corporate Auto            SUV   \n",
      "\n",
      "      Total Claim Amount  \n",
      "3             529.881344  \n",
      "6             321.600000  \n",
      "7             363.029680  \n",
      "8             511.200000  \n",
      "12            472.029737  \n",
      "...                  ...  \n",
      "1045           85.063708  \n",
      "1050          144.782152  \n",
      "1052          532.800000  \n",
      "1056           61.769564  \n",
      "1059          720.752945  \n",
      "\n",
      "[234 rows x 11 columns]\n"
     ]
    }
   ],
   "source": [
    "print(corporate_auto)"
   ]
  },
  {
   "cell_type": "code",
   "execution_count": 128,
   "id": "4f2efdca-49fe-49bc-b2a8-9001053d17db",
   "metadata": {},
   "outputs": [
    {
     "name": "stdout",
     "output_type": "stream",
     "text": [
      "Average income for corporate Auto policies: 41390.31196581197\n"
     ]
    }
   ],
   "source": [
    "print(f\"Average income for corporate Auto policies: {avargecorporate_auto}\")"
   ]
  },
  {
   "cell_type": "markdown",
   "id": "80b16c27-f4a5-4727-a229-1f88671cf4e2",
   "metadata": {},
   "source": [
    "### Bonus: Exercise 4\n"
   ]
  },
  {
   "cell_type": "markdown",
   "id": "ac584986-299b-475f-ac2e-928c16c3f512",
   "metadata": {},
   "source": [
    "Your goal is to identify customers with a high policy claim amount.\n",
    "\n",
    "Instructions:\n",
    "\n",
    "- Review again the statistics for total claim amount to gain an understanding of the data.\n",
    "- To identify potential areas for improving customer retention and profitability, we want to focus on customers with a high policy claim amount. Consider customers with a high policy claim amount to be those in the top 25% of the total claim amount. Create a pandas DataFrame object that contains information about customers with a policy claim amount greater than the 75th percentile.\n",
    "- Use DataFrame methods to calculate summary statistics about the high policy claim amount data. "
   ]
  },
  {
   "cell_type": "markdown",
   "id": "4e3af5f1-6023-4b05-9c01-d05392daa650",
   "metadata": {},
   "source": [
    "*Note: When analyzing data, we often want to focus on certain groups of values to gain insights. Percentiles are a useful tool to help us define these groups. A percentile is a measure that tells us what percentage of values in a dataset are below a certain value. For example, the 75th percentile represents the value below which 75% of the data falls. Similarly, the 25th percentile represents the value below which 25% of the data falls. When we talk about the top 25%, we are referring to the values that fall above the 75th percentile, which represent the top quarter of the data. On the other hand, when we talk about the bottom 25%, we are referring to the values that fall below the 25th percentile, which represent the bottom quarter of the data. By focusing on these groups, we can identify patterns and trends that may be useful for making decisions and taking action.*\n",
    "\n",
    "*Hint: look for a method that gives you the percentile or quantile 0.75 and 0.25 for a Pandas Series.*"
   ]
  },
  {
   "cell_type": "markdown",
   "id": "2d234634-50bd-41e0-88f7-d5ba684455d1",
   "metadata": {},
   "source": [
    "*Hint 2: check `Boolean selection according to the values of a single column` in https://towardsdatascience.com/filtering-data-frames-in-pandas-b570b1f834b9*"
   ]
  },
  {
   "cell_type": "code",
   "execution_count": 129,
   "id": "b731bca6-a760-4860-a27b-a33efa712ce0",
   "metadata": {},
   "outputs": [],
   "source": [
    "import pandas as pd"
   ]
  },
  {
   "cell_type": "code",
   "execution_count": 130,
   "id": "030c57b1-676d-405e-b906-ff98b3abc018",
   "metadata": {},
   "outputs": [],
   "source": [
    "#1\n",
    "df = pd.DataFrame(customer_dataframe)"
   ]
  },
  {
   "cell_type": "code",
   "execution_count": 133,
   "id": "24ff9ab0-38ff-4eda-a2ea-7c4f932331a3",
   "metadata": {},
   "outputs": [],
   "source": [
    "total_claim_numbers = df[\"Total Claim Amount\"].describe()"
   ]
  },
  {
   "cell_type": "code",
   "execution_count": 135,
   "id": "eb943282-8a1c-478c-b115-b15eaaecea24",
   "metadata": {},
   "outputs": [
    {
     "name": "stdout",
     "output_type": "stream",
     "text": [
      "count    1071.000000\n",
      "mean      404.986909\n",
      "std       293.027260\n",
      "min         0.382107\n",
      "25%       202.157702\n",
      "50%       354.729129\n",
      "75%       532.800000\n",
      "max      2893.239678\n",
      "Name: Total Claim Amount, dtype: float64\n"
     ]
    }
   ],
   "source": [
    "print(total_claim_numbers)"
   ]
  },
  {
   "cell_type": "code",
   "execution_count": 141,
   "id": "5ea05a45-0ee4-483e-8001-e9463ffb6004",
   "metadata": {},
   "outputs": [
    {
     "name": "stdout",
     "output_type": "stream",
     "text": [
      "75th Percentile of Total Claim Amount: 532.8\n"
     ]
    }
   ],
   "source": [
    "#2\n",
    "top75th_percent_claim_data = df['Total Claim Amount'].quantile(0.75)\n",
    "print(\"75th Percentile of Total Claim Amount:\", top75th_percent_claim_data)"
   ]
  },
  {
   "cell_type": "code",
   "execution_count": 144,
   "id": "29f77872-ba10-42f3-9315-f93416c16f71",
   "metadata": {},
   "outputs": [],
   "source": [
    "#3\n",
    "high_policy_claim = df[df[\"Total Claim Amount\"]>top75th_percent_claim_data]"
   ]
  },
  {
   "cell_type": "code",
   "execution_count": 145,
   "id": "9528f9b1-c2f2-42c9-91ac-a5162f2f870d",
   "metadata": {},
   "outputs": [
    {
     "name": "stdout",
     "output_type": "stream",
     "text": [
      "     Customer          ST GENDER Education Customer Lifetime Value   Income  \\\n",
      "1     QZ44356     Arizona      F  Bachelor              697953.59%      0.0   \n",
      "2     AI49188      Nevada      F  Bachelor             1288743.17%  48767.0   \n",
      "17    OE15005        Cali    NaN   College              394524.16%  28855.0   \n",
      "23    TZ98966      Nevada    NaN  Bachelor              245019.10%      0.0   \n",
      "26    US89481  California    NaN  Bachelor              394637.21%      0.0   \n",
      "...       ...         ...    ...       ...                     ...      ...   \n",
      "1059  YG44474      Oregon      M   College             1401472.13%  54193.0   \n",
      "1061  RY92647        Cali      F  Bachelor             1050677.17%      0.0   \n",
      "1068  GS98873     Arizona      F  Bachelor              323912.47%  16061.0   \n",
      "1069  CW49887  California      F    Master              462680.11%  79487.0   \n",
      "1070  MY31220  California      F   College              899704.02%  54230.0   \n",
      "\n",
      "      Monthly Premium Auto Number of Open Complaints     Policy Type  \\\n",
      "1                     94.0                    1/0/00   Personal Auto   \n",
      "2                    108.0                    1/0/00   Personal Auto   \n",
      "17                   101.0                    1/0/00   Personal Auto   \n",
      "23                    73.0                    1/3/00  Corporate Auto   \n",
      "26                   111.0                    1/0/00   Personal Auto   \n",
      "...                    ...                       ...             ...   \n",
      "1059                 117.0                    1/0/00  Corporate Auto   \n",
      "1061                  92.0                    1/0/00   Personal Auto   \n",
      "1068                  88.0                    1/0/00   Personal Auto   \n",
      "1069                 114.0                    1/0/00    Special Auto   \n",
      "1070                 112.0                    1/0/00   Personal Auto   \n",
      "\n",
      "      Vehicle Class  Total Claim Amount  \n",
      "1     Four-Door Car         1131.464935  \n",
      "2      Two-Door Car          566.472247  \n",
      "17              SUV          647.442031  \n",
      "23    Four-Door Car          554.376763  \n",
      "26    Four-Door Car          799.200000  \n",
      "...             ...                 ...  \n",
      "1059            SUV          720.752945  \n",
      "1061  Four-Door Car          546.524896  \n",
      "1068  Four-Door Car          633.600000  \n",
      "1069            SUV          547.200000  \n",
      "1070   Two-Door Car          537.600000  \n",
      "\n",
      "[264 rows x 11 columns]\n"
     ]
    }
   ],
   "source": [
    "print(high_policy_claim)"
   ]
  },
  {
   "cell_type": "code",
   "execution_count": null,
   "id": "1aa76e84-f4a8-4fc0-b8d5-f06d39786b02",
   "metadata": {},
   "outputs": [],
   "source": []
  }
 ],
 "metadata": {
  "kernelspec": {
   "display_name": "Python 3 (ipykernel)",
   "language": "python",
   "name": "python3"
  },
  "language_info": {
   "codemirror_mode": {
    "name": "ipython",
    "version": 3
   },
   "file_extension": ".py",
   "mimetype": "text/x-python",
   "name": "python",
   "nbconvert_exporter": "python",
   "pygments_lexer": "ipython3",
   "version": "3.11.7"
  }
 },
 "nbformat": 4,
 "nbformat_minor": 5
}
